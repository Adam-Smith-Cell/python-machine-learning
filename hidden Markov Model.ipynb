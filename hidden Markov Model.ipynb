{
 "cells": [
  {
   "cell_type": "markdown",
   "metadata": {},
   "source": [
    "## A Brief Introduction of hidden Markov\n",
    "parameters: \n",
    "\n",
    "1. all possible states: $ Q = \\{q_1,q_2,\\cdots,q_N\\} $ \n",
    "\n",
    "2. all visible index: $ V = \\{v_1, v_2, \\cdots, v_M\\} $ \n",
    "\n",
    "N stands for numbers of possible states while M stands for the numbers of visible index.\n",
    "\n",
    "3. invisible states sequence: $ I = (i_1,i_2,\\cdots,i_T) $\n",
    "\n",
    "4. visible states sequence: $ O = (o_1,o_2,\\cdots,o_T) $\n",
    "\n",
    "5. state transfer matrix: $ A = [a_{ij}]_{N \\times N} $, $ a_{ij}=P(i_{t+1}=q_j\\mid i_t=q_i), i = 1,2,\\cdots,N;j=1,2,\\cdots,N$, which indicates the possibility of process from state $q_i$ to state $q_j$. \n",
    "\n",
    "6. visible index possibility matrix: $ B=[b_j(k)]_{N \\times N} $,$b_j(k)=P(o_t=v_k \\mid i_t=q_j), k=1,2,\\cdots,M;j=1,2,\\cdots,N $.\n",
    "\n",
    "7. the initial possibility vector: $ \\pi = (\\pi_i) $, $\\pi_i=P(i_i=q_i), i=1,2,\\cdots,N $\n"
   ]
  },
  {
   "cell_type": "markdown",
   "metadata": {},
   "source": [
    "## 前向算法"
   ]
  },
  {
   "cell_type": "code",
   "execution_count": 1,
   "metadata": {},
   "outputs": [],
   "source": [
    "# test data\n",
    "import numpy as np\n",
    "O = np.array([0,1,0])\n",
    "Q = np.array([1,2,3])\n",
    "V = np.array([0,1])\n",
    "PI = np.array([0.2,0.4,0.4]) \n",
    "A = np.array([[0.5,0.2,0.3],  #第一列是Q=1转变到Q=1的概率。其他元素以此类推。\n",
    "              [0.3,0.5,0.2],\n",
    "              [0.2,0.3,0.5]])\n",
    "B = np.array([[0.5, 0.5],   # 第一列是V=0的概率，第二列是V=1的概率。\n",
    "            [0.4, 0.6],\n",
    "            [0.7, 0.3]])"
   ]
  },
  {
   "cell_type": "code",
   "execution_count": 2,
   "metadata": {},
   "outputs": [
    {
     "data": {
      "text/plain": [
       "0.130218"
      ]
     },
     "execution_count": 2,
     "metadata": {},
     "output_type": "execute_result"
    }
   ],
   "source": [
    "container_front = [0 for i in range(len(O))]\n",
    "container_front[0] = np.array([B[i, O[0]] for i in range(len(Q))])*PI\n",
    "for i in range(1, len(O)):\n",
    "    container_front[i] = (container_front[i-1].dot(A))*np.array([B[j,O[i]] for j in range(len(Q))])\n",
    "container_front = np.array(container_front)\n",
    "np.sum(container_front[-1])"
   ]
  },
  {
   "cell_type": "code",
   "execution_count": 3,
   "metadata": {},
   "outputs": [
    {
     "data": {
      "text/plain": [
       "array([[0.1     , 0.16    , 0.28    ],\n",
       "       [0.077   , 0.1104  , 0.0606  ],\n",
       "       [0.04187 , 0.035512, 0.052836]])"
      ]
     },
     "execution_count": 3,
     "metadata": {},
     "output_type": "execute_result"
    }
   ],
   "source": [
    "container_front"
   ]
  },
  {
   "cell_type": "markdown",
   "metadata": {},
   "source": [
    "## 后向算法"
   ]
  },
  {
   "cell_type": "code",
   "execution_count": 4,
   "metadata": {},
   "outputs": [
    {
     "data": {
      "text/plain": [
       "0.133758"
      ]
     },
     "execution_count": 4,
     "metadata": {},
     "output_type": "execute_result"
    }
   ],
   "source": [
    "container_back = [0 for i in range(len(O))]\n",
    "container_back[-1] = np.ones(len(Q))\n",
    "for i in range(len(O)-2, -1, -1):\n",
    "    container_back[i] = (container_back[i+1]*np.array([B[j,O[i]] for j in range(len(Q))])).dot(A.T)\n",
    "container_back = np.array(container_back)\n",
    "np.sum(np.array([B[i, O[0]] for i in range(len(Q))])*PI*container_back[0])"
   ]
  },
  {
   "cell_type": "code",
   "execution_count": 5,
   "metadata": {},
   "outputs": [
    {
     "data": {
      "text/plain": [
       "array([[0.2461, 0.2312, 0.2577],\n",
       "       [0.46  , 0.51  , 0.43  ],\n",
       "       [1.    , 1.    , 1.    ]])"
      ]
     },
     "execution_count": 5,
     "metadata": {},
     "output_type": "execute_result"
    }
   ],
   "source": [
    "container_back"
   ]
  },
  {
   "cell_type": "markdown",
   "metadata": {},
   "source": [
    "## 一些概率和期望值的计算"
   ]
  },
  {
   "cell_type": "code",
   "execution_count": 16,
   "metadata": {},
   "outputs": [
    {
     "data": {
      "text/plain": [
       "array([[0.2461    , 0.2312    , 0.2577    ],\n",
       "       [0.23      , 0.255     , 0.215     ],\n",
       "       [0.33333333, 0.33333333, 0.33333333]])"
      ]
     },
     "execution_count": 16,
     "metadata": {},
     "output_type": "execute_result"
    }
   ],
   "source": [
    "_ = np.array([1,2,3])\n",
    "container_back/_[:,np.newaxis]"
   ]
  },
  {
   "cell_type": "code",
   "execution_count": 15,
   "metadata": {},
   "outputs": [
    {
     "data": {
      "text/plain": [
       "array([[1],\n",
       "       [2],\n",
       "       [3]])"
      ]
     },
     "execution_count": 15,
     "metadata": {},
     "output_type": "execute_result"
    }
   ],
   "source": [
    "_[:,np.newaxis]"
   ]
  },
  {
   "cell_type": "markdown",
   "metadata": {},
   "source": [
    "`container_proba` 表示给定模型和观测序列O，在时刻1~t处于状态$q_i$的概率，计算公式如下：$$\\gamma_t(i)=P(i_t=q_i \\mid O,\\lambda) =\\displaystyle\\frac{P(i_t=q_i,O\\mid\\lambda)}{P(O\\mid\\lambda})  = \\displaystyle\\frac{\\alpha_t(i)\\beta_t(i)}{\\sum\\limits_{j=1}^N{\\alpha_t(j)\\beta_t(j)}}$$\n",
    "本程序中，最后集成为一个行为T，列为时间N的矩阵。"
   ]
  },
  {
   "cell_type": "code",
   "execution_count": 19,
   "metadata": {},
   "outputs": [],
   "source": [
    "_ = np.sum(container_back*container_front, axis=1)\n",
    "container_proba = container_back*container_front/_[:,np.newaxis]\n",
    "container_proba = np.array(container_proba)"
   ]
  },
  {
   "cell_type": "code",
   "execution_count": 20,
   "metadata": {},
   "outputs": [
    {
     "data": {
      "text/plain": [
       "array([[0.183989  , 0.27655916, 0.53945185],\n",
       "       [0.30072507, 0.47803569, 0.22123924],\n",
       "       [0.32153773, 0.27271191, 0.40575036]])"
      ]
     },
     "execution_count": 20,
     "metadata": {},
     "output_type": "execute_result"
    }
   ],
   "source": [
    "container_proba"
   ]
  },
  {
   "cell_type": "markdown",
   "metadata": {},
   "source": [
    "`container_conditional_proba`给定模型和观测序列O，在时刻t处于$q_i$且在t+1时刻处于$q_{j}$的概率，计算公式如下：$$ \\xi_t(i,j) = \\displaystyle\\frac{\\alpha_t(i)a_{ij}b_j(o_{t+1})\\beta_{t+1}(j))}{\\sum\\limits_{i=1}^N\\sum\\limits_{j=1}^N{\\alpha_t(i)a_{ij}b_j(o_{t+1})\\beta_{t+1}(j))}} $$"
   ]
  },
  {
   "cell_type": "code",
   "execution_count": 50,
   "metadata": {},
   "outputs": [],
   "source": [
    "container_conditional_proba = [0 for i in range(len(O)-1)]\n",
    "for i in range((len(O)-1)):\n",
    "    container_conditional_proba[i] = (container_front[i,np.newaxis,:].dot(A)).T.dot((np.array([B[j,O[i+1]] for j in range(len(Q))])*container_back[i+1])[np.newaxis,:])\n",
    "    temp = np.sum(container_conditional_proba[i])\n",
    "    container_conditional_proba[i]/=temp\n",
    "container_conditional_proba = np.array(container_conditional_proba)"
   ]
  },
  {
   "cell_type": "code",
   "execution_count": 51,
   "metadata": {},
   "outputs": [
    {
     "data": {
      "text/plain": [
       "array([[[0.09863548, 0.13122807, 0.05532164],\n",
       "        [0.11785018, 0.15679198, 0.06609858],\n",
       "        [0.129379  , 0.17213033, 0.07256475]],\n",
       "\n",
       "       [[0.10551915, 0.08441532, 0.14772681],\n",
       "        [0.11186996, 0.08949597, 0.15661794],\n",
       "        [0.09511089, 0.07608871, 0.13315524]]])"
      ]
     },
     "execution_count": 51,
     "metadata": {},
     "output_type": "execute_result"
    }
   ],
   "source": [
    "container_conditional_proba"
   ]
  },
  {
   "cell_type": "markdown",
   "metadata": {},
   "source": [
    "在观测O下状态i出现的期望值"
   ]
  },
  {
   "cell_type": "code",
   "execution_count": 48,
   "metadata": {},
   "outputs": [
    {
     "data": {
      "text/plain": [
       "array([0.2687506 , 0.34243559, 0.38881381])"
      ]
     },
     "execution_count": 48,
     "metadata": {},
     "output_type": "execute_result"
    }
   ],
   "source": [
    "np.sum(container_proba, axis=0)/container_proba.shape[0]"
   ]
  },
  {
   "cell_type": "markdown",
   "metadata": {},
   "source": [
    "计算观测O下，由状态i转移到状态j的期望值。"
   ]
  },
  {
   "cell_type": "code",
   "execution_count": 46,
   "metadata": {},
   "outputs": [
    {
     "data": {
      "text/plain": [
       "array([[0.10207732, 0.1078217 , 0.10152423],\n",
       "       [0.11486007, 0.12314397, 0.11135826],\n",
       "       [0.11224495, 0.12410952, 0.10285999]])"
      ]
     },
     "execution_count": 46,
     "metadata": {},
     "output_type": "execute_result"
    }
   ],
   "source": [
    "np.sum(container_conditional_proba, axis=0)/container_conditional_proba.shape[0]"
   ]
  },
  {
   "cell_type": "markdown",
   "metadata": {},
   "source": [
    "## 学习算法\n",
    "### 监督学习算法"
   ]
  },
  {
   "cell_type": "markdown",
   "metadata": {},
   "source": [
    "#### 转移概率$a_{ij}$的估计\n",
    "记$A_{ij}$为t时刻状态i转化为t+1时刻状态j的频数。可以得到估计参数：\n",
    "$$\\hat{a}_{ij}=\\displaystyle\\frac{A_{ij}}{\\sum\\limits_{j=1}^N{A_{ij}}}$$\n",
    "#### 观测概率$b_{ij}$的估计\n",
    "记$B_{ij}$为t时刻状态i转化为t+1时刻状态j的频数。可以得到估计参数：\n",
    "$$\\hat{b}_{ij}=\\displaystyle\\frac{B_{ij}}{\\sum\\limits_{j=1}^N{B_{ij}}}$$\n",
    "## Baum-Welch 算法"
   ]
  },
  {
   "cell_type": "code",
   "execution_count": 55,
   "metadata": {},
   "outputs": [],
   "source": [
    "####"
   ]
  },
  {
   "cell_type": "markdown",
   "metadata": {},
   "source": [
    "## 预测模型\n",
    "### 近似算法（贪心）"
   ]
  },
  {
   "cell_type": "code",
   "execution_count": 56,
   "metadata": {},
   "outputs": [],
   "source": [
    "###"
   ]
  },
  {
   "cell_type": "markdown",
   "metadata": {},
   "source": [
    "### 维特比算法（动态规划）"
   ]
  },
  {
   "cell_type": "code",
   "execution_count": null,
   "metadata": {},
   "outputs": [],
   "source": []
  }
 ],
 "metadata": {
  "kernelspec": {
   "display_name": "Python 3",
   "language": "python",
   "name": "python3"
  },
  "language_info": {
   "codemirror_mode": {
    "name": "ipython",
    "version": 3
   },
   "file_extension": ".py",
   "mimetype": "text/x-python",
   "name": "python",
   "nbconvert_exporter": "python",
   "pygments_lexer": "ipython3",
   "version": "3.8.5"
  }
 },
 "nbformat": 4,
 "nbformat_minor": 4
}
