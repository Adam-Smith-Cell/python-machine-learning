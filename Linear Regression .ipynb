{
 "cells": [
  {
   "source": [
    "# Linear Regression With Python"
   ],
   "cell_type": "markdown",
   "metadata": {}
  },
  {
   "source": [
    "## Import Some Basic Packages"
   ],
   "cell_type": "markdown",
   "metadata": {}
  },
  {
   "cell_type": "code",
   "execution_count": 1,
   "metadata": {},
   "outputs": [],
   "source": [
    "import numpy as np\n",
    "import matplotlib.pyplot as plt\n",
    "from sklearn.linear_model import LinearRegression\n",
    "from sklearn.datasets import make_regression"
   ]
  },
  {
   "source": [
    "## generate data for regression training"
   ],
   "cell_type": "markdown",
   "metadata": {}
  },
  {
   "cell_type": "code",
   "execution_count": 2,
   "metadata": {},
   "outputs": [
    {
     "data": {
      "image/png": "[encoded data removed]",
      "text/plain": [
       "<Figure size 432x288 with 1 Axes>"
      ]
     },
     "metadata": {
      "needs_background": "light"
     },
     "output_type": "display_data"
    }
   ],
   "source": [
    "x, y = make_regression(n_samples=50, n_features=1, n_informative=1, noise=50, random_state=1)\n",
    "reg=LinearRegression()\n",
    "reg.fit(x,y)\n",
    "z = np.linspace(-3,3,200).reshape(-1,1)\n",
    "plt.scatter(x,y,c='b',s=60)\n",
    "plt.plot(z, reg.predict(z),c='k')\n",
    "plt.title('Linear Regression')\n",
    "plt.show()"
   ]
  },
  {
   "source": [
    "Use `intercept_` and `coef_` method to get the values of intercept and coefficents."
   ],
   "cell_type": "markdown",
   "metadata": {}
  },
  {
   "cell_type": "code",
   "execution_count": 3,
   "metadata": {},
   "outputs": [
    {
     "data": {
      "text/plain": [
       "(10.922212258169349, array([79.52463976]))"
      ]
     },
     "execution_count": 3,
     "metadata": {},
     "output_type": "execute_result"
    }
   ],
   "source": [
    "reg.intercept_, reg.coef_"
   ]
  },
  {
   "cell_type": "code",
   "execution_count": 4,
   "metadata": {},
   "outputs": [],
   "source": [
    "from sklearn.model_selection import train_test_split"
   ]
  },
  {
   "cell_type": "code",
   "execution_count": 5,
   "metadata": {},
   "outputs": [
    {
     "data": {
      "text/plain": [
       "(array([70.38592453,  7.43213621]), -2.1316282072803006e-14)"
      ]
     },
     "execution_count": 5,
     "metadata": {},
     "output_type": "execute_result"
    }
   ],
   "source": [
    "x, y = make_regression(n_samples=100, n_features=2, n_informative=2, random_state=38)\n",
    "x_train, x_test, y_train, y_test = train_test_split(x, y, random_state=8)\n",
    "lr = LinearRegression().fit(x_train, y_train)\n",
    "lr.coef_, lr.intercept_"
   ]
  },
  {
   "cell_type": "code",
   "execution_count": 6,
   "metadata": {},
   "outputs": [
    {
     "data": {
      "text/plain": [
       "(1.0, 1.0)"
      ]
     },
     "execution_count": 6,
     "metadata": {},
     "output_type": "execute_result"
    }
   ],
   "source": [
    "lr.score(x_test, y_test), lr.score(x_train, y_train)"
   ]
  },
  {
   "cell_type": "code",
   "execution_count": 7,
   "metadata": {},
   "outputs": [],
   "source": [
    "from sklearn.datasets import load_diabetes"
   ]
  },
  {
   "cell_type": "code",
   "execution_count": 8,
   "metadata": {},
   "outputs": [
    {
     "data": {
      "text/plain": [
       "(array([   11.5106203 ,  -282.51347161,   534.20455671,   401.73142674,\n",
       "        -1043.89718398,   634.92464089,   186.43262636,   204.93373199,\n",
       "          762.47149733,    91.9460394 ]),\n",
       " 152.5624877455247,\n",
       " 0.45934404966916387,\n",
       " 0.530381475970933)"
      ]
     },
     "execution_count": 8,
     "metadata": {},
     "output_type": "execute_result"
    }
   ],
   "source": [
    "x, y = load_diabetes().data, load_diabetes().target\n",
    "x_train, x_test, y_train, y_test = train_test_split(x, y, random_state=8)\n",
    "lr = LinearRegression().fit(x_train, y_train)\n",
    "lr.coef_, lr.intercept_,lr.score(x_test, y_test), lr.score(x_train, y_train)"
   ]
  },
  {
   "source": [
    "## Ridge Regression"
   ],
   "cell_type": "markdown",
   "metadata": {}
  },
  {
   "cell_type": "code",
   "execution_count": 9,
   "metadata": {},
   "outputs": [
    {
     "data": {
      "text/plain": [
       "(0.4326376676137663, 0.4325217769068186)"
      ]
     },
     "execution_count": 9,
     "metadata": {},
     "output_type": "execute_result"
    }
   ],
   "source": [
    "from sklearn.linear_model import Ridge\n",
    "ridge = Ridge().fit(x_train, y_train)\n",
    "ridge.score(x_train, y_train), ridge.score(x_test, y_test)"
   ]
  },
  {
   "cell_type": "markdown",
   "metadata": {},
   "source": [
    "the relationship between parameter $\\alpha$ and `coef_`"
   ]
  },
  {
   "cell_type": "code",
   "execution_count": 11,
   "metadata": {},
   "outputs": [
    {
     "data": {
      "text/plain": [
       "<function matplotlib.pyplot.legend(*args, **kwargs)>"
      ]
     },
     "execution_count": 11,
     "metadata": {},
     "output_type": "execute_result"
    },
    {
     "data": {
      "image/png": "[encoded data removed]",
      "text/plain": [
       "<Figure size 432x288 with 1 Axes>"
      ]
     },
     "metadata": {
      "needs_background": "light"
     },
     "output_type": "display_data"
    }
   ],
   "source": [
    "ridge01 = Ridge(alpha=0.1).fit(x_train, y_train)\n",
    "ridge10 = Ridge(alpha=10).fit(x_train,y_train)\n",
    "plt.plot(ridge.coef_,'s',label='Ridge alpha=1')\n",
    "plt.plot(ridge10.coef_,'^',label='Ridge alpha=10')\n",
    "plt.plot(ridge01.coef_,'v',label='Ridge alpha=0.1')\n",
    "plt.xlabel(\"coefficient index\")\n",
    "plt.ylabel(\"coeffcient magnitude\")\n",
    "plt.hlines(0,0,len(lr.coef_))\n",
    "plt.legend"
   ]
  },
  {
   "source": [
    "## generate the learning_curve and kfold testing"
   ],
   "cell_type": "markdown",
   "metadata": {}
  },
  {
   "cell_type": "code",
   "execution_count": 13,
   "metadata": {},
   "outputs": [
    {
     "data": {
      "text/plain": [
       "<matplotlib.legend.Legend at 0x1ef8892dc10>"
      ]
     },
     "execution_count": 13,
     "metadata": {},
     "output_type": "execute_result"
    },
    {
     "data": {
      "image/png": "[encoded data removed]",
      "text/plain": [
       "<Figure size 432x288 with 1 Axes>"
      ]
     },
     "metadata": {
      "needs_background": "light"
     },
     "output_type": "display_data"
    }
   ],
   "source": [
    "from sklearn.model_selection import learning_curve, KFold\n",
    "def plot_learning_curve(est, x, y):\n",
    "    training_set_size, train_scores, test_scores=learning_curve(est,x,y,train_sizes=np.linspace(0.1,1,20),cv=KFold(20,shuffle=True,random_state=1))\n",
    "    estimator_name=est.__class__.__name__\n",
    "    line = plt.plot(training_set_size,train_scores.mean(axis=1),'--',label=\"training \"+estimator_name)\n",
    "    plt.plot(training_set_size,test_scores.mean(axis=1),'-',label=\"test \"+estimator_name, c=line[0].get_color())\n",
    "    plt.xlabel('Training set size')\n",
    "    plt.ylabel('Score')\n",
    "    plt.ylim(0, 1.1)\n",
    "\n",
    "plot_learning_curve(Ridge(alpha=1), x, y)\n",
    "plot_learning_curve(LinearRegression(), x, y)\n",
    "plt.legend(loc=(0,1.05), ncol=2, fontsize=11)"
   ]
  },
  {
   "source": [
    "## Lasso Regression"
   ],
   "cell_type": "markdown",
   "metadata": {}
  },
  {
   "cell_type": "code",
   "execution_count": 14,
   "metadata": {},
   "outputs": [
    {
     "data": {
      "text/plain": [
       "(0.36242428249291325, 0.3656185896212798, 3)"
      ]
     },
     "execution_count": 14,
     "metadata": {},
     "output_type": "execute_result"
    }
   ],
   "source": [
    "from sklearn.linear_model import Lasso\n",
    "lasso = Lasso().fit(x_train,y_train)\n",
    "lasso.score(x_train, y_train), lasso.score(x_test, y_test), np.sum(lasso.coef_ != 0)"
   ]
  },
  {
   "cell_type": "code",
   "execution_count": 17,
   "metadata": {},
   "outputs": [
    {
     "data": {
      "text/plain": [
       "(0.519480608218357, 0.47994757514558173, 7)"
      ]
     },
     "execution_count": 17,
     "metadata": {},
     "output_type": "execute_result"
    }
   ],
   "source": [
    "lasso1 = Lasso(alpha=0.1, max_iter=100000).fit(x_train, y_train)\n",
    "lasso1.score(x_train, y_train), lasso1.score(x_test, y_test), np.sum(lasso1.coef_ != 0)"
   ]
  },
  {
   "cell_type": "code",
   "execution_count": null,
   "metadata": {},
   "outputs": [],
   "source": []
  }
 ],
 "metadata": {
  "kernelspec": {
   "display_name": "Python 3",
   "language": "python",
   "name": "python3"
  },
  "language_info": {
   "codemirror_mode": {
    "name": "ipython",
    "version": 3
   },
   "file_extension": ".py",
   "mimetype": "text/x-python",
   "name": "python",
   "nbconvert_exporter": "python",
   "pygments_lexer": "ipython3",
   "version": "3.8.3"
  }
 },
 "nbformat": 4,
 "nbformat_minor": 4
}